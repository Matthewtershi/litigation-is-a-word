{
 "cells": [
  {
   "cell_type": "code",
   "execution_count": 1,
   "metadata": {},
   "outputs": [
    {
     "name": "stdout",
     "output_type": "stream",
     "text": [
      "hello world\n"
     ]
    }
   ],
   "source": [
    "print(\"hello world\")"
   ]
  },
  {
   "cell_type": "code",
   "execution_count": 8,
   "metadata": {},
   "outputs": [
    {
     "name": "stdout",
     "output_type": "stream",
     "text": [
      "Requirement already satisfied: kaggle in c:\\users\\matth\\vsc\\projects\\learn_ml\\.venv\\lib\\site-packages (1.6.17)\n",
      "Requirement already satisfied: six>=1.10 in c:\\users\\matth\\vsc\\projects\\learn_ml\\.venv\\lib\\site-packages (from kaggle) (1.16.0)\n",
      "Requirement already satisfied: certifi>=2023.7.22 in c:\\users\\matth\\vsc\\projects\\learn_ml\\.venv\\lib\\site-packages (from kaggle) (2024.8.30)\n",
      "Requirement already satisfied: python-dateutil in c:\\users\\matth\\vsc\\projects\\learn_ml\\.venv\\lib\\site-packages (from kaggle) (2.9.0.post0)\n",
      "Requirement already satisfied: requests in c:\\users\\matth\\vsc\\projects\\learn_ml\\.venv\\lib\\site-packages (from kaggle) (2.32.3)\n",
      "Requirement already satisfied: tqdm in c:\\users\\matth\\vsc\\projects\\learn_ml\\.venv\\lib\\site-packages (from kaggle) (4.67.1)\n",
      "Requirement already satisfied: python-slugify in c:\\users\\matth\\vsc\\projects\\learn_ml\\.venv\\lib\\site-packages (from kaggle) (8.0.4)\n",
      "Requirement already satisfied: urllib3 in c:\\users\\matth\\vsc\\projects\\learn_ml\\.venv\\lib\\site-packages (from kaggle) (2.2.3)\n",
      "Requirement already satisfied: bleach in c:\\users\\matth\\vsc\\projects\\learn_ml\\.venv\\lib\\site-packages (from kaggle) (6.1.0)\n",
      "Requirement already satisfied: webencodings in c:\\users\\matth\\vsc\\projects\\learn_ml\\.venv\\lib\\site-packages (from bleach->kaggle) (0.5.1)\n",
      "Requirement already satisfied: text-unidecode>=1.3 in c:\\users\\matth\\vsc\\projects\\learn_ml\\.venv\\lib\\site-packages (from python-slugify->kaggle) (1.3)\n",
      "Requirement already satisfied: charset-normalizer<4,>=2 in c:\\users\\matth\\vsc\\projects\\learn_ml\\.venv\\lib\\site-packages (from requests->kaggle) (3.4.0)\n",
      "Requirement already satisfied: idna<4,>=2.5 in c:\\users\\matth\\vsc\\projects\\learn_ml\\.venv\\lib\\site-packages (from requests->kaggle) (3.10)\n",
      "Requirement already satisfied: colorama in c:\\users\\matth\\vsc\\projects\\learn_ml\\.venv\\lib\\site-packages (from tqdm->kaggle) (0.4.6)\n",
      "Note: you may need to restart the kernel to use updated packages.\n"
     ]
    },
    {
     "name": "stderr",
     "output_type": "stream",
     "text": [
      "\n",
      "[notice] A new release of pip is available: 24.2 -> 24.3.1\n",
      "[notice] To update, run: python.exe -m pip install --upgrade pip\n"
     ]
    }
   ],
   "source": [
    "%pip install kaggle"
   ]
  },
  {
   "cell_type": "code",
   "execution_count": 6,
   "metadata": {},
   "outputs": [],
   "source": [
    "import numpy as np\n",
    "import pandas as pd\n",
    "from matplotlib import pyplot as plt\n",
    "import re"
   ]
  },
  {
   "cell_type": "code",
   "execution_count": 15,
   "metadata": {},
   "outputs": [
    {
     "data": {
      "text/html": [
       "<div>\n",
       "<style scoped>\n",
       "    .dataframe tbody tr th:only-of-type {\n",
       "        vertical-align: middle;\n",
       "    }\n",
       "\n",
       "    .dataframe tbody tr th {\n",
       "        vertical-align: top;\n",
       "    }\n",
       "\n",
       "    .dataframe thead th {\n",
       "        text-align: right;\n",
       "    }\n",
       "</style>\n",
       "<table border=\"1\" class=\"dataframe\">\n",
       "  <thead>\n",
       "    <tr style=\"text-align: right;\">\n",
       "      <th></th>\n",
       "      <th>WhiteElo</th>\n",
       "      <th>AN</th>\n",
       "    </tr>\n",
       "  </thead>\n",
       "  <tbody>\n",
       "    <tr>\n",
       "      <th>6184721</th>\n",
       "      <td>1773</td>\n",
       "      <td>1. d4 e6 2. c4 Nf6 3. Nc3 Bb4 4. Qc2 Bxc3+ 5. ...</td>\n",
       "    </tr>\n",
       "    <tr>\n",
       "      <th>1344917</th>\n",
       "      <td>1403</td>\n",
       "      <td>1. e3 d6 2. Qf3 Nf6 3. Nc3 g6 4. Bd3 Bg7 5. Nh...</td>\n",
       "    </tr>\n",
       "    <tr>\n",
       "      <th>4289761</th>\n",
       "      <td>2037</td>\n",
       "      <td>1. g3 e6 2. Bg2 Nf6 3. e3 d5 4. Ne2 c6 5. O-O ...</td>\n",
       "    </tr>\n",
       "    <tr>\n",
       "      <th>1247220</th>\n",
       "      <td>1964</td>\n",
       "      <td>1. d4 g6 2. c4 Bg7 3. e4 c5 4. d5 d6 5. Nc3 Nf...</td>\n",
       "    </tr>\n",
       "    <tr>\n",
       "      <th>4420988</th>\n",
       "      <td>2557</td>\n",
       "      <td>1. Nf3 d5 2. d3 Nf6 3. g3 Bg4 4. Bg2 Bxf3 5. B...</td>\n",
       "    </tr>\n",
       "  </tbody>\n",
       "</table>\n",
       "</div>"
      ],
      "text/plain": [
       "         WhiteElo                                                 AN\n",
       "6184721      1773  1. d4 e6 2. c4 Nf6 3. Nc3 Bb4 4. Qc2 Bxc3+ 5. ...\n",
       "1344917      1403  1. e3 d6 2. Qf3 Nf6 3. Nc3 g6 4. Bd3 Bg7 5. Nh...\n",
       "4289761      2037  1. g3 e6 2. Bg2 Nf6 3. e3 d5 4. Ne2 c6 5. O-O ...\n",
       "1247220      1964  1. d4 g6 2. c4 Bg7 3. e4 c5 4. d5 d6 5. Nc3 Nf...\n",
       "4420988      2557  1. Nf3 d5 2. d3 Nf6 3. g3 Bg4 4. Bg2 Bxf3 5. B..."
      ]
     },
     "execution_count": 15,
     "metadata": {},
     "output_type": "execute_result"
    }
   ],
   "source": [
    "df = pd.read_csv('/Users/matth/.kaggle/chess_data.zip', usecols=['AN', 'WhiteElo'], compression='zip')\n",
    "df.sample(5)"
   ]
  },
  {
   "cell_type": "code",
   "execution_count": 5,
   "metadata": {},
   "outputs": [
    {
     "name": "stdout",
     "output_type": "stream",
     "text": [
      "{'a': 0, 'b': 1, 'c': 2, 'd': 3, 'e': 4, 'f': 5, 'g': 6, 'h': 7}\n",
      "{0: 'a', 1: 'b', 2: 'c', 3: 'd', 4: 'e', 5: 'f', 6: 'g', 7: 'h'}\n"
     ]
    }
   ],
   "source": [
    "letter_2_num = {'a':0, 'b':1, 'c':2, 'd':3, 'e':4, 'f':5, 'g':6, 'h':7}\n",
    "num_2_letter = {v: k for k, v in letter_2_num.items()}\n",
    "print(letter_2_num)\n",
    "print(num_2_letter)"
   ]
  },
  {
   "cell_type": "code",
   "execution_count": 7,
   "metadata": {},
   "outputs": [],
   "source": [
    "def board_to_rep(board):\n",
    "    pieces = ['p', 'r', 'n', 'b', 'q', 'k', 'P', 'R', 'N', 'B', 'Q', 'K']\n",
    "    layers = []\n",
    "    for piece in pieces:\n",
    "        layers.append(create_rep_layer(board, piece))\n",
    "    board_rep = np.stack(layers, axis=0)\n",
    "    return board_rep\n",
    "\n",
    "def create_rep_layer(board, piece):\n",
    "    s = str(board)\n",
    "    s = re.sub(f'[^{type}{type.upper()} \\n]', '.', s)\n",
    "    s = re.sub(f'{type}', '-1', s)\n",
    "    s = re.sub(f'{type.upper()}', '1', s)\n",
    "    s = re.sub(f'\\.', '0', s)\n",
    "\n",
    "    board_mat = []\n",
    "    for row in s.split('\\n'):\n",
    "        row = row.split(\" \")\n",
    "        row = [int(x) for x in row]\n",
    "        board_mat.append(row)\n",
    "    return np.array(board_mat)"
   ]
  },
  {
   "cell_type": "code",
   "execution_count": 8,
   "metadata": {},
   "outputs": [],
   "source": [
    "def move_to_rep(move, board):\n",
    "    board.push_san(move).uci()\n",
    "    move = str(board.pop())\n",
    "\n",
    "    from_output_layer = np.zeros((8, 8))\n",
    "    from_row = 8 - int(move[1])\n",
    "    from_col = letter_2_num[move[0]]\n",
    "    from_output_layer[from_row, from_col] = 1\n",
    "\n",
    "    to_output_layer = np.zeros((8, 8))\n",
    "    to_row = 8 - int(move[3])\n",
    "    to_col = letter_2_num[move[2]]\n",
    "    to_output_layer[to_row, to_col] = 1\n",
    "\n",
    "    return np.stack([from_output_layer, to_output_layer], axis=0)"
   ]
  },
  {
   "cell_type": "code",
   "execution_count": 9,
   "metadata": {},
   "outputs": [],
   "source": [
    "def create_move_list(s):\n",
    "    return re.sub(r'\\d*\\. ', '', s).split()[:-1]"
   ]
  },
  {
   "cell_type": "code",
   "execution_count": null,
   "metadata": {},
   "outputs": [
    {
     "ename": "NameError",
     "evalue": "name 'df' is not defined",
     "output_type": "error",
     "traceback": [
      "\u001b[1;31m---------------------------------------------------------------------------\u001b[0m",
      "\u001b[1;31mNameError\u001b[0m                                 Traceback (most recent call last)",
      "Cell \u001b[1;32mIn[20], line 1\u001b[0m\n\u001b[1;32m----> 1\u001b[0m chess_data \u001b[38;5;241m=\u001b[39m \u001b[43mdf\u001b[49m[df[\u001b[38;5;124m'\u001b[39m\u001b[38;5;124mWhiteElo\u001b[39m\u001b[38;5;124m'\u001b[39m] \u001b[38;5;241m>\u001b[39m \u001b[38;5;241m2000\u001b[39m]\n\u001b[0;32m      2\u001b[0m \u001b[38;5;28;01mdel\u001b[39;00m df\n\u001b[0;32m      3\u001b[0m \u001b[38;5;28mprint\u001b[39m(chess_data\u001b[38;5;241m.\u001b[39mshape)\n",
      "\u001b[1;31mNameError\u001b[0m: name 'df' is not defined"
     ]
    }
   ],
   "source": [
    "chess_data = df[df['WhiteElo'] > 2000]\n",
    "print(chess_data.shape)\n",
    "chess_data.sample(10)"
   ]
  },
  {
   "cell_type": "code",
   "execution_count": 19,
   "metadata": {},
   "outputs": [
    {
     "name": "stdout",
     "output_type": "stream",
     "text": [
      "883376\n"
     ]
    },
    {
     "data": {
      "text/html": [
       "<div>\n",
       "<style scoped>\n",
       "    .dataframe tbody tr th:only-of-type {\n",
       "        vertical-align: middle;\n",
       "    }\n",
       "\n",
       "    .dataframe tbody tr th {\n",
       "        vertical-align: top;\n",
       "    }\n",
       "\n",
       "    .dataframe thead th {\n",
       "        text-align: right;\n",
       "    }\n",
       "</style>\n",
       "<table border=\"1\" class=\"dataframe\">\n",
       "  <thead>\n",
       "    <tr style=\"text-align: right;\">\n",
       "      <th></th>\n",
       "      <th>AN</th>\n",
       "    </tr>\n",
       "  </thead>\n",
       "  <tbody>\n",
       "    <tr>\n",
       "      <th>7</th>\n",
       "      <td>1. d4 d5 2. Nf3 Nf6 3. Bf4 c6 4. e3 Bg4 5. Be2...</td>\n",
       "    </tr>\n",
       "    <tr>\n",
       "      <th>8</th>\n",
       "      <td>1. d4 Nf6 2. Bf4 e6 3. e3 d5 4. Nf3 h6 5. Bd3 ...</td>\n",
       "    </tr>\n",
       "    <tr>\n",
       "      <th>13</th>\n",
       "      <td>1. b4 e6 2. Bb2 d5 3. Nf3 Nf6 4. b5 Be7 5. e3 ...</td>\n",
       "    </tr>\n",
       "    <tr>\n",
       "      <th>26</th>\n",
       "      <td>1. e4 d6 2. d4 Nf6 3. Bd3 g6 4. h4 c5 5. h5 Nx...</td>\n",
       "    </tr>\n",
       "    <tr>\n",
       "      <th>39</th>\n",
       "      <td>1. e4 e6 2. d4 d5 3. Nc3 Bb4 4. e5 c5 5. a3 cx...</td>\n",
       "    </tr>\n",
       "  </tbody>\n",
       "</table>\n",
       "</div>"
      ],
      "text/plain": [
       "                                                   AN\n",
       "7   1. d4 d5 2. Nf3 Nf6 3. Bf4 c6 4. e3 Bg4 5. Be2...\n",
       "8   1. d4 Nf6 2. Bf4 e6 3. e3 d5 4. Nf3 h6 5. Bd3 ...\n",
       "13  1. b4 e6 2. Bb2 d5 3. Nf3 Nf6 4. b5 Be7 5. e3 ...\n",
       "26  1. e4 d6 2. d4 Nf6 3. Bd3 g6 4. h4 c5 5. h5 Nx...\n",
       "39  1. e4 e6 2. d4 d5 3. Nc3 Bb4 4. e5 c5 5. a3 cx..."
      ]
     },
     "execution_count": 19,
     "metadata": {},
     "output_type": "execute_result"
    }
   ],
   "source": [
    "chess_data = chess_data[['AN']]\n",
    "chess_data = chess_data[-chess_data['AN'].str.contains('{')]\n",
    "chess_data = chess_data[chess_data['AN'].str.len() > 20]\n",
    "print(chess_data.shape[0]) # 800k chess games\n",
    "chess_data.head(5)"
   ]
  },
  {
   "cell_type": "code",
   "execution_count": 27,
   "metadata": {},
   "outputs": [],
   "source": [
    "import torch\n",
    "import torch.nn as nn\n",
    "import torch.nn.functional as F\n",
    "from torch.utils.data import Dataset, DataLoader"
   ]
  },
  {
   "cell_type": "code",
   "execution_count": 25,
   "metadata": {},
   "outputs": [],
   "source": [
    "class ChessDataset(Dataset):\n",
    "    def __init__(self, games):\n",
    "        super (ChessDataset, self).__init__()\n",
    "        self.games = games\n",
    "\n",
    "    def __len__(self):\n",
    "        return 40_000\n",
    "    \n",
    "    def __getitem__(self, index):\n",
    "        game_i = np.random.randint(self.game.shpae[0])\n",
    "        random_game = chess_data['AN'].values[game_i]\n",
    "        moves = create_move_list(random_game)\n",
    "        game_state_i = np.random.randint(len(moves)-1)\n",
    "        next_move = moves[game_state_i]\n",
    "        moves = moves[:game_state_i]\n",
    "        board = chess.Board()\n",
    "        for move in moves:\n",
    "            board.push_san(move)\n",
    "        x = board_to_rep(board)\n",
    "        y = move_to_rep(next_move, board)\n",
    "        if game_state_i % 2 == 1:\n",
    "            x *= -1\n",
    "        return x, y"
   ]
  },
  {
   "cell_type": "code",
   "execution_count": 29,
   "metadata": {},
   "outputs": [
    {
     "name": "stdout",
     "output_type": "stream",
     "text": [
      "<__main__.ChessDataset object at 0x000001B978172FA0>\n"
     ]
    }
   ],
   "source": [
    "data_train = ChessDataset(chess_data['AN'])\n",
    "data_loader = DataLoader(data_train, batch_size=32, shuffle=True)"
   ]
  },
  {
   "cell_type": "code",
   "execution_count": null,
   "metadata": {},
   "outputs": [],
   "source": [
    "class module(nn.Module):\n",
    "\n",
    "    def __init__(self, hidden_size):\n",
    "        super(module, self).__init__()\n",
    "        self.conv1 = nn.Conv2d(hidden_size, hidden_size, 3, stride=1, padding=1)\n",
    "        self.conv2 = nn.Conv2d(hidden_size, hidden_size, 3, stride=1, padding=1)\n",
    "        self.bn1 = nn.BatchNorm2d(hidden_size)\n",
    "        self.bn2 = nn.BatchNorm2d(hidden_size)\n",
    "        self.activation1 = nn.SELU()\n",
    "        self.activation2 = nn.SELU()\n",
    "\n",
    "    def forward(self,x):\n",
    "        x_input = torch.clone(x)\n",
    "        x = self.conv1(x)\n",
    "        x = self.bn2(x)\n",
    "        x = self.activation1(x)\n",
    "        x = self.conv2(x)\n",
    "        x = self.bn2(x)\n",
    "        x += x_input\n",
    "        x = self.activation2(x)\n",
    "\n",
    "        return x"
   ]
  }
 ],
 "metadata": {
  "kernelspec": {
   "display_name": ".venv",
   "language": "python",
   "name": "python3"
  },
  "language_info": {
   "codemirror_mode": {
    "name": "ipython",
    "version": 3
   },
   "file_extension": ".py",
   "mimetype": "text/x-python",
   "name": "python",
   "nbconvert_exporter": "python",
   "pygments_lexer": "ipython3",
   "version": "3.9.13"
  }
 },
 "nbformat": 4,
 "nbformat_minor": 2
}
